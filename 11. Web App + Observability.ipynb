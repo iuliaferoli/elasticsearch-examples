{
 "cells": [
  {
   "cell_type": "code",
   "execution_count": null,
   "metadata": {},
   "outputs": [],
   "source": [
    "from elasticsearch import Elasticsearch\n",
    "from getpass import getpass  # For securely getting user input\n",
    "from elasticsearch.client import MlClient\n",
    "\n",
    "# Prompt the user to enter their Elastic Cloud ID and API Key securely\n",
    "ELASTIC_CLOUD_ID = getpass(\"Elastic Cloud ID: \")\n",
    "ELASTIC_API_KEY = getpass(\"Elastic API Key: \")\n",
    "\n",
    "# Create an Elasticsearch client using the provided credentials\n",
    "client = Elasticsearch(\n",
    "    cloud_id=ELASTIC_CLOUD_ID,  # cloud id can be found under deployment management\n",
    "    api_key=ELASTIC_API_KEY # API keys can be generated under management / security\n",
    ")\n",
    "\n",
    "client.info()"
   ]
  },
  {
   "cell_type": "code",
   "execution_count": null,
   "metadata": {},
   "outputs": [],
   "source": [
    "index = \"hp_scripts_final\"\n",
    "model_id = \"sentence-transformers__msmarco-minilm-l-12-v3\"\n",
    "question = \"magic spell\"\n",
    "\n",
    "def semantic_search(question):\n",
    "    question = {\"text_field\" : question}\n",
    "    result = MlClient.infer_trained_model(client, model_id =model_id, docs = question)\n",
    "    query_vector = result[\"inference_results\"][0][\"predicted_value\"]\n",
    "\n",
    "    query = {\n",
    "        \"field\": \"text_embedding.predicted_value\",\n",
    "        \"query_vector\": query_vector,\n",
    "        \"k\": 5,\n",
    "        \"num_candidates\": 100\n",
    "    }\n",
    "        \n",
    "    result = client.search(index = index, knn=query, source=[\"Sentence\", \"Character\"])\n",
    "    answer = []\n",
    "    for element in result[\"hits\"][\"hits\"]:\n",
    "        answer.append(\"{}: {}, score {}\".format(element[\"_source\"][\"Character\"], element[\"_source\"][\"Sentence\"], element[\"_score\"]))\n",
    "\n",
    "    return answer"
   ]
  },
  {
   "cell_type": "code",
   "execution_count": null,
   "metadata": {},
   "outputs": [],
   "source": [
    "answer = semantic_search(question)\n",
    "for element in answer:\n",
    "    print(element)"
   ]
  },
  {
   "cell_type": "code",
   "execution_count": null,
   "metadata": {},
   "outputs": [],
   "source": [
    "index = \"historical_searches\"\n",
    "\n",
    "settings = {}\n",
    "mappings = {\n",
    "    \"_meta\" : {\n",
    "        \"created_by\" : \"Iulia Feroli\"\n",
    "    },\n",
    "    \"properties\" : {\n",
    "        \"Query\" : {\n",
    "            \"type\" : \"text\"\n",
    "        },\n",
    "        \"Reponse\" : {\n",
    "            \"type\" : \"text\"\n",
    "        },\n",
    "        \"date\" : {\n",
    "            \"type\" : \"date\"\n",
    "        }\n",
    "    }\n",
    "}\n",
    "\n",
    "client.indices.create(index=index, settings=settings, mappings=mappings)"
   ]
  },
  {
   "cell_type": "code",
   "execution_count": null,
   "metadata": {},
   "outputs": [],
   "source": [
    "from datetime import datetime\n",
    "\n",
    "example = {\"Query\" : \"I am searching\", \"Response\" : [\"first\", \"second\"], \"date\" : datetime.now()}\n",
    "response = client.index(index = index, document = example)\n",
    "print(response['result'])"
   ]
  },
  {
   "cell_type": "code",
   "execution_count": null,
   "metadata": {},
   "outputs": [],
   "source": [
    "response = client.search(index = index, sort=[{\"date\" : {\"order\": \"desc\"}}])\n",
    "for hit in response[\"hits\"][\"hits\"]:\n",
    "    print(hit['_source'])"
   ]
  },
  {
   "cell_type": "code",
   "execution_count": null,
   "metadata": {},
   "outputs": [],
   "source": []
  }
 ],
 "metadata": {
  "kernelspec": {
   "display_name": ".venv",
   "language": "python",
   "name": "python3"
  },
  "language_info": {
   "codemirror_mode": {
    "name": "ipython",
    "version": 3
   },
   "file_extension": ".py",
   "mimetype": "text/x-python",
   "name": "python",
   "nbconvert_exporter": "python",
   "pygments_lexer": "ipython3",
   "version": "3.11.4"
  },
  "orig_nbformat": 4
 },
 "nbformat": 4,
 "nbformat_minor": 2
}
