{
 "cells": [
  {
   "cell_type": "code",
   "execution_count": 32,
   "metadata": {},
   "outputs": [
    {
     "data": {
      "text/plain": [
       "ObjectApiResponse({'name': 'instance-0000000000', 'cluster_name': 'fdcc4e10e5a34385884a3eda9350099a', 'cluster_uuid': '1v8os-EZTPmrZoF6uXeWKA', 'version': {'number': '8.9.0', 'build_flavor': 'default', 'build_type': 'docker', 'build_hash': '8aa461beb06aa0417a231c345a1b8c38fb498a0d', 'build_date': '2023-07-19T14:43:58.555259655Z', 'build_snapshot': False, 'lucene_version': '9.7.0', 'minimum_wire_compatibility_version': '7.17.0', 'minimum_index_compatibility_version': '7.0.0'}, 'tagline': 'You Know, for Search'})"
      ]
     },
     "execution_count": 32,
     "metadata": {},
     "output_type": "execute_result"
    }
   ],
   "source": [
    "from elasticsearch import Elasticsearch\n",
    "from elasticsearch.helpers import bulk\n",
    "\n",
    "import configparser\n",
    "\n",
    "config = configparser.ConfigParser()\n",
    "config.read('foobar.ini')\n",
    "cloud_id = config[\"cloud-connection\"][\"cloud_id\"]\n",
    "user = config[\"cloud-connection\"][\"user\"] # by default user = \"elastic\"\n",
    "password = config[\"cloud-connection\"][\"password\"]\n",
    "\n",
    "client = Elasticsearch(\n",
    "    cloud_id=cloud_id,  # cloud id can be found under deployment management\n",
    "    basic_auth=(user, password) # your username and password for connecting to elastic, found under Deplouments - Security\n",
    ")\n",
    "\n",
    "client.info()"
   ]
  },
  {
   "cell_type": "code",
   "execution_count": 5,
   "metadata": {},
   "outputs": [
    {
     "data": {
      "text/html": [
       "<div>\n",
       "<style scoped>\n",
       "    .dataframe tbody tr th:only-of-type {\n",
       "        vertical-align: middle;\n",
       "    }\n",
       "\n",
       "    .dataframe tbody tr th {\n",
       "        vertical-align: top;\n",
       "    }\n",
       "\n",
       "    .dataframe thead th {\n",
       "        text-align: right;\n",
       "    }\n",
       "</style>\n",
       "<table border=\"1\" class=\"dataframe\">\n",
       "  <thead>\n",
       "    <tr style=\"text-align: right;\">\n",
       "      <th></th>\n",
       "      <th>Character</th>\n",
       "      <th>Sentence</th>\n",
       "      <th>Line_number</th>\n",
       "    </tr>\n",
       "  </thead>\n",
       "  <tbody>\n",
       "    <tr>\n",
       "      <th>0</th>\n",
       "      <td>HARRY</td>\n",
       "      <td>I cant let you out Hedwig</td>\n",
       "      <td>0</td>\n",
       "    </tr>\n",
       "    <tr>\n",
       "      <th>1</th>\n",
       "      <td>HARRY</td>\n",
       "      <td>Im not allowed to use magic outside of school</td>\n",
       "      <td>1</td>\n",
       "    </tr>\n",
       "    <tr>\n",
       "      <th>2</th>\n",
       "      <td>HARRY</td>\n",
       "      <td>Besides if Uncle Vernon</td>\n",
       "      <td>2</td>\n",
       "    </tr>\n",
       "    <tr>\n",
       "      <th>3</th>\n",
       "      <td>VERNON</td>\n",
       "      <td>Harry Potter</td>\n",
       "      <td>3</td>\n",
       "    </tr>\n",
       "    <tr>\n",
       "      <th>4</th>\n",
       "      <td>HARRY</td>\n",
       "      <td>Now youve done it</td>\n",
       "      <td>4</td>\n",
       "    </tr>\n",
       "  </tbody>\n",
       "</table>\n",
       "</div>"
      ],
      "text/plain": [
       "  Character                                       Sentence  Line_number\n",
       "0     HARRY                      I cant let you out Hedwig            0\n",
       "1     HARRY  Im not allowed to use magic outside of school            1\n",
       "2     HARRY                        Besides if Uncle Vernon            2\n",
       "3    VERNON                                   Harry Potter            3\n",
       "4     HARRY                              Now youve done it            4"
      ]
     },
     "execution_count": 5,
     "metadata": {},
     "output_type": "execute_result"
    }
   ],
   "source": [
    "import re\n",
    "import pandas as pd \n",
    "\n",
    "hp_script = pd.read_csv(\"data/Harry_Potter_2.csv\", sep = \";\" )\n",
    "hp_script = hp_script.applymap(lambda x: re.sub(r'[^ \\w+]', '', str(x).strip()))\n",
    "hp_script[\"Line_number\"] = hp_script.index\n",
    "hp_script.head()"
   ]
  },
  {
   "cell_type": "code",
   "execution_count": 30,
   "metadata": {},
   "outputs": [],
   "source": [
    "index = \"hp_script_2\"\n",
    "settings = {}\n",
    "mappings = {\n",
    "    \"_meta\" : {\n",
    "        \"created_by\" : \"Iulia Feroli\"\n",
    "    },\n",
    "    \"properties\" : {\n",
    "        \"Line_number\" : {\n",
    "            \"type\" : \"long\"\n",
    "        },\n",
    "        \"Character\" : {\n",
    "            \"type\" : \"keyword\",\n",
    "            \"type\" : \"text\"\n",
    "        },\n",
    "        \"Sentence\" : {\n",
    "            \"type\" : \"text\"\n",
    "        }\n",
    "    }\n",
    "}\n",
    "\n",
    "client.indices.create(index=index, settings=settings, mappings=mappings)"
   ]
  },
  {
   "cell_type": "code",
   "execution_count": 6,
   "metadata": {},
   "outputs": [
    {
     "data": {
      "text/plain": [
       "[{'Character': 'HARRY',\n",
       "  'Sentence': 'I cant let you out Hedwig',\n",
       "  'Line_number': 0},\n",
       " {'Character': 'HARRY',\n",
       "  'Sentence': 'Im not allowed to use magic outside of school',\n",
       "  'Line_number': 1},\n",
       " {'Character': 'HARRY',\n",
       "  'Sentence': 'Besides if Uncle Vernon',\n",
       "  'Line_number': 2},\n",
       " {'Character': 'VERNON', 'Sentence': 'Harry Potter', 'Line_number': 3},\n",
       " {'Character': 'HARRY', 'Sentence': 'Now youve done it', 'Line_number': 4}]"
      ]
     },
     "execution_count": 6,
     "metadata": {},
     "output_type": "execute_result"
    }
   ],
   "source": [
    "from json import loads\n",
    "docs = hp_script.to_json(orient = \"records\")\n",
    "hp_script_docs_2 = loads(docs)\n",
    "hp_script_docs_2[0:5]"
   ]
  },
  {
   "cell_type": "code",
   "execution_count": 8,
   "metadata": {},
   "outputs": [],
   "source": [
    "response = bulk(client = client, index = index, actions = iter(hp_script_docs), stats_only = True )"
   ]
  },
  {
   "cell_type": "code",
   "execution_count": 22,
   "metadata": {},
   "outputs": [
    {
     "data": {
      "text/plain": [
       "[{'Character': 'HARRY', 'Sentence': 'Lumos Maxima', 'Line_number': 0},\n",
       " {'Character': 'HARRY', 'Sentence': 'Lumos Maxima', 'Line_number': 1},\n",
       " {'Character': 'HARRY', 'Sentence': 'Lumos Maxima', 'Line_number': 2},\n",
       " {'Character': 'HARRY', 'Sentence': 'Lumos MAXIMA', 'Line_number': 3},\n",
       " {'Character': 'AUNT PETUNIA', 'Sentence': 'Harry Harry', 'Line_number': 4}]"
      ]
     },
     "execution_count": 22,
     "metadata": {},
     "output_type": "execute_result"
    }
   ],
   "source": [
    "import re\n",
    "hp_script = pd.read_csv(\"data/Harry_Potter_3.csv\", sep = \";\" )\n",
    "hp_script = hp_script.applymap(lambda x: re.sub(r'[^ \\w+]', '', str(x).strip()))\n",
    "hp_script[\"Line_number\"] = hp_script.index\n",
    "hp_script.rename(columns = {'CHARACTER':'Character'}, inplace = True)\n",
    "hp_script.rename(columns = {'SENTENCE':'Sentence'}, inplace = True)\n",
    "\n",
    "index = \"hp_script_3\"\n",
    "client.indices.create(index=index, settings=settings, mappings=mappings)\n",
    "\n",
    "docs = hp_script.to_json(orient = \"records\")\n",
    "hp_script_docs_3 = loads(docs)\n",
    "hp_script_docs_3[0:5]\n",
    "\n",
    "response = bulk(client = client, index = index, actions = iter(hp_script_docs_3), stats_only = True )"
   ]
  },
  {
   "cell_type": "code",
   "execution_count": 23,
   "metadata": {},
   "outputs": [],
   "source": [
    "hp_script = pd.read_csv(\"data/Harry_Potter_1.csv\", sep = \";\" )\n",
    "hp_script = hp_script.applymap(lambda x: re.sub(r'[^ \\w+]', '', str(x).strip()))\n",
    "hp_script[\"Line_number\"] = hp_script.index\n",
    "\n",
    "docs = hp_script.to_json(orient = \"records\")\n",
    "hp_scripts = loads(docs)"
   ]
  },
  {
   "cell_type": "code",
   "execution_count": 27,
   "metadata": {},
   "outputs": [],
   "source": [
    "hp_scripts = hp_scripts + hp_script_docs_2 + hp_script_docs_3"
   ]
  },
  {
   "cell_type": "code",
   "execution_count": 34,
   "metadata": {},
   "outputs": [],
   "source": [
    "index = \"hp_scripts\"\n",
    "client.indices.create(index=index, settings=settings, mappings=mappings)\n",
    "response = bulk(client = client, index = index, actions = iter(hp_scripts), stats_only = True )"
   ]
  }
 ],
 "metadata": {
  "kernelspec": {
   "display_name": ".venv",
   "language": "python",
   "name": "python3"
  },
  "language_info": {
   "codemirror_mode": {
    "name": "ipython",
    "version": 3
   },
   "file_extension": ".py",
   "mimetype": "text/x-python",
   "name": "python",
   "nbconvert_exporter": "python",
   "pygments_lexer": "ipython3",
   "version": "3.11.4"
  },
  "orig_nbformat": 4
 },
 "nbformat": 4,
 "nbformat_minor": 2
}
