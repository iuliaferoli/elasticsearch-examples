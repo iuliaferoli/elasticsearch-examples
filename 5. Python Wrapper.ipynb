{
 "cells": [
  {
   "cell_type": "markdown",
   "metadata": {},
   "source": [
    "## Once more, with python"
   ]
  },
  {
   "cell_type": "markdown",
   "metadata": {},
   "source": [
    "### Installation of elasticsearch client \n",
    "\n",
    "We've seen in the previous notebooks how we can send requests to the Elasticsearch API through the console developer tool. However, we can also have the same functionalities directly from our python notebook, without having to switch to the browser interface. Let's recreate some of our steps with the Elasticsearch python client.\n",
    "\n",
    "Firstly, we will install  `elasticsearch`  in your python (virtual) environment. This is an official a low-level client for Elasticsearch that allows you to interact with the search engine directly from python. You will see that the syntax is not that different from the requests we wrote in the previous steps. [See the docs](https://elasticsearch-py.readthedocs.io/en/v8.9.0/) for more info on this client.\n",
    "\n",
    "```\n",
    "pip install elasticsearch\n",
    "```\n"
   ]
  },
  {
   "cell_type": "markdown",
   "metadata": {},
   "source": [
    "### Connecting & Authenticating to Elastic Cloud\n",
    "\n",
    "We have to first create a connection to our deployment on Elasticsearch. \n",
    "\n",
    "For security, the keys and secrets are saved in a config file. [(see docs for more info)](https://docs.python.org/3/library/configparser.html). Fill in your own keys [in the example file provided](/foobar-example.ini), or directly copy paste the values in the next block if you do not plan to share the code. \n",
    "\n",
    "If you are connecting to the elastic cloud using SSO, you can still find your username (usually `elastic`) and password in the cloud UI under Deployments - Security. [(see example to reset password)](https://www.elastic.co/guide/en/cloud/current/ec-password-reset.html)"
   ]
  },
  {
   "cell_type": "code",
   "execution_count": 1,
   "metadata": {},
   "outputs": [],
   "source": [
    "from getpass import getpass  # For securely getting user input\n",
    "from elasticsearch import Elasticsearch\n",
    "\n",

    "# Prompt the user to enter their Elastic Cloud ID and API Key securely\n",
    "ELASTIC_CLOUD_ID = getpass(\"Elastic Cloud ID: \")\n",
    "ELASTIC_API_KEY = getpass(\"Elastic API Key: \")\n",

    "\n",
    "# Create an Elasticsearch client using the provided credentials\n",
    "client = Elasticsearch(\n",
    "    cloud_id=ELASTIC_CLOUD_ID,  # cloud id can be found under deployment management\n",
    "    api_key=ELASTIC_API_KEY # API keys can be generated under management / security\n",
    ")"
   ]
  },
  {
   "cell_type": "markdown",
   "metadata": {},
   "source": [
    "### Elasticsearch Queries\n",
    "\n",
    "Now that we're successfully connected to our cluster, we can run the same queries as [in the previous notebooks](/4.%20Search%20Magic.md), but with python!\n",
    "\n",
    "As a reminder, here is the first query we ran directly in the Elasticsearch console:\n",
    "``` json\n",
    "GET hp/_search\n",
    "{\n",
    "  \"query\": {\n",
    "    \"match\": {\n",
    "      \"Loyalty\": \"Dumbledores Army\"\n",
    "    }\n",
    "  }\n",
    "}\n",
    "```\n",
    "\n",
    "The same query with the python client will look like this:"
   ]
  },
  {
   "cell_type": "code",
   "execution_count": 9,
   "metadata": {},
   "outputs": [
    {
     "name": "stdout",
     "output_type": "stream",
     "text": [
      "{'took': 1, 'timed_out': False, '_shards': {'total': 1, 'successful': 1, 'skipped': 0, 'failed': 0}, 'hits': {'total': {'value': 31, 'relation': 'eq'}, 'max_score': 3.8102126, 'hits': [{'_index': 'hp', '_id': '8t5A9IkBHcQ5Wxo9CJrt', '_score': 3.8102126, '_ignored': ['Death', 'Birth'], '_source': {'column1': 84, 'Wand': 'Unknown', 'Hair colour': 'Red', 'House': 'Hufflepuff', 'Gender': 'Male', 'Patronus': 'Noncorporeal', 'Birth': 'Unknown', 'Blood status': 'muggleborn', 'Name': 'Justin FinchFletchley', 'Skills': 'Unknown', 'Death': 'Unknown', 'Eye colour': 'Unknown', 'Job': 'Student', 'Loyalty': 'Dumbledores Army', 'Species': 'Human'}}, {'_index': 'hp', '_id': '895A9IkBHcQ5Wxo9CJrt', '_score': 3.8102126, '_ignored': ['Death', 'Birth'], '_source': {'column1': 85, 'Wand': 'Unknown', 'Hair colour': 'Blonde', 'House': 'Hufflepuff', 'Gender': 'Male', 'Patronus': 'Unknown', 'Birth': 'Unknown', 'Blood status': 'pureblood or halfblood', 'Name': 'Zacharias Smith', 'Skills': 'Chaser', 'Death': 'Unknown', 'Eye colour': 'Unknown', 'Job': 'Student', 'Loyalty': 'Dumbledores Army', 'Species': 'Human'}}, {'_index': 'hp', '_id': '9N5A9IkBHcQ5Wxo9CJrt', '_score': 3.8102126, '_ignored': ['Death', 'Birth'], '_source': {'column1': 86, 'Wand': 'Unknown', 'Hair colour': 'Blonde', 'House': 'Hufflepuff', 'Gender': 'Female', 'Patronus': 'Noncorporeal', 'Birth': 'Unknown', 'Blood status': 'halfblood', 'Name': 'Hannah Abbott', 'Skills': 'Defensive spells learned with Dumbledores Army', 'Death': 'Unknown', 'Eye colour': 'Brown', 'Job': 'Student', 'Loyalty': 'Dumbledores Army', 'Species': 'Human'}}, {'_index': 'hp', '_id': '9d5A9IkBHcQ5Wxo9CJrt', '_score': 3.8102126, '_ignored': ['Death', 'Birth'], '_source': {'column1': 87, 'Wand': 'Unknown', 'Hair colour': 'Blond', 'House': 'Hufflepuff', 'Gender': 'Male', 'Patronus': 'Boar', 'Birth': 'Unknown', 'Blood status': 'pureblood', 'Name': 'Ernest Macmillan', 'Skills': 'Revising being a Prefect getting the wrong end of the stick', 'Death': 'Unknown', 'Eye colour': 'Unknown', 'Job': 'Student', 'Loyalty': 'Dumbledores Army', 'Species': 'Human'}}, {'_index': 'hp', '_id': '9t5A9IkBHcQ5Wxo9CJrt', '_score': 3.8102126, '_ignored': ['Death', 'Birth'], '_source': {'column1': 88, 'Wand': 'Unknown', 'Hair colour': 'Unknown', 'House': 'Hufflepuff', 'Gender': 'Female', 'Patronus': 'Unknown', 'Birth': 'Unknown', 'Blood status': 'halfblood', 'Name': 'Susan Bones', 'Skills': 'Defensive spells learned with Dumbledores Army', 'Death': 'Unknown', 'Eye colour': 'Unknown', 'Job': 'Student', 'Loyalty': 'Dumbledores Army', 'Species': 'Human'}}, {'_index': 'hp', '_id': 'Gd5A9IkBHcQ5Wxo9CJvt', '_score': 3.8102126, '_ignored': ['Death', 'Birth'], '_source': {'column1': 123, 'Wand': 'Unknown', 'Hair colour': 'Mousy brown', 'House': 'Gryffindor', 'Gender': 'Male', 'Patronus': 'Unknown', 'Birth': 'Unknown', 'Blood status': 'muggleborn', 'Name': 'Dennis Creevey', 'Skills': 'Unknown', 'Death': 'Unknown', 'Eye colour': 'Unknown', 'Job': 'Student', 'Loyalty': 'Dumbledores Army', 'Species': 'Human'}}, {'_index': 'hp', '_id': 'p95A9IkBHcQ5Wxo9CJrt', '_score': 2.1814194, '_ignored': ['Death', 'Birth'], '_source': {'column1': 9, 'Wand': 'Unknown', 'Hair colour': 'Black', 'House': 'Gryffindor', 'Gender': 'Male', 'Patronus': 'Unknown', 'Birth': 'Unknown', 'Blood status': 'muggleborn', 'Name': 'Dean Thomas', 'Skills': 'Chaser', 'Death': 'Unknown', 'Eye colour': 'Brown', 'Job': 'Student', 'Loyalty': 'Dumbledores Army  Hogwarts School of Witchcraft and Wizardry', 'Species': 'Human'}}, {'_index': 'hp', '_id': 'qN5A9IkBHcQ5Wxo9CJrt', '_score': 2.1814194, '_ignored': ['Death', 'Birth'], '_source': {'column1': 10, 'Wand': 'Unknown', 'Hair colour': 'Sandy', 'House': 'Gryffindor', 'Gender': 'Male', 'Patronus': 'Fox', 'Birth': 'Unknown', 'Blood status': 'halfblood', 'Name': 'Seamus Finnigan', 'Skills': 'Pyrotechnics', 'Death': 'Unknown', 'Eye colour': 'Unknown', 'Job': 'Student', 'Loyalty': 'Dumbledores Army  Hogwarts School of Witchcraft and Wizardry', 'Species': 'Human'}}, {'_index': 'hp', '_id': 's95A9IkBHcQ5Wxo9CJrt', '_score': 2.1814194, '_ignored': ['Death', 'Birth'], '_source': {'column1': 21, 'Wand': 'Unknown', 'Hair colour': 'Brown', 'House': 'Gryffindor', 'Gender': 'Female', 'Patronus': 'Unknown', 'Birth': 'Unknown', 'Blood status': 'unknown', 'Name': 'Angelina Johnson', 'Skills': 'Chaser', 'Death': 'Unknown', 'Eye colour': 'Brown', 'Job': 'Student', 'Loyalty': 'Dumbledores Army Hogwarts School of Witchcraft and Wizardry', 'Species': 'Human'}}, {'_index': 'hp', '_id': 'tN5A9IkBHcQ5Wxo9CJrt', '_score': 2.1814194, '_ignored': ['Death', 'Birth'], '_source': {'column1': 22, 'Wand': 'Unknown', 'Hair colour': 'Brown', 'House': 'Gryffindor', 'Gender': 'Female', 'Patronus': 'Unknown', 'Birth': 'Unknown', 'Blood status': 'pureblood or halfblood', 'Name': 'Katie Bell', 'Skills': 'Chaser', 'Death': 'Unknown', 'Eye colour': 'Brown', 'Job': 'Student', 'Loyalty': 'Dumbledores Army Hogwarts School of Witchcraft and Wizardry', 'Species': 'Human'}}]}}\n"
     ]
    }
   ],
   "source": [
    "response = client.search(index=\"hp\", query={\n",
    "    \"match\": {\n",
    "        \"Loyalty\": \"Dumbledores Army\"\n",
    "    }\n",
    "})\n",
    "\n",
    "print(response)"
   ]
  },
  {
   "cell_type": "markdown",
   "metadata": {},
   "source": [
    "We see the same json response as we got in the direct console calls. However, since we're already working in python, we can also clean up our response and make it more understandable:"
   ]
  },
  {
   "cell_type": "code",
   "execution_count": 10,
   "metadata": {},
   "outputs": [
    {
     "name": "stdout",
     "output_type": "stream",
     "text": [
      "We get back 31 results, here are the top ones:\n",
      "Justin FinchFletchley\n",
      "Zacharias Smith\n",
      "Hannah Abbott\n",
      "Ernest Macmillan\n",
      "Susan Bones\n",
      "Dennis Creevey\n",
      "Dean Thomas\n",
      "Seamus Finnigan\n",
      "Angelina Johnson\n",
      "Katie Bell\n"
     ]
    }
   ],
   "source": [
    "print(\"We get back {total} results, here are the top ones:\".format(total=response[\"hits\"]['total']['value']))\n",
    "for hit in response[\"hits\"][\"hits\"]:\n",
    "    print(hit['_source']['Name'])"
   ]
  },
  {
   "cell_type": "markdown",
   "metadata": {},
   "source": [
    "We have all the same functionalities as directly making queries in the console. Let's see our most complex query from the previous notebooks; you can use the same json within the python search function like this:"
   ]
  },
  {
   "cell_type": "code",
   "execution_count": 11,
   "metadata": {},
   "outputs": [],
   "source": [
    "response = client.search(index=\"hp\", query = {\n",
    "    \"bool\": {\n",
    "      \"must\" : [\n",
    "        {\n",
    "          \"multi_match\" : {\n",
    "            \"query\":    \"quidditch chaser keeper beater seeker\", \n",
    "            \"fields\": [ \"Job\", \"Skills\" ] \n",
    "          }\n",
    "        },\n",
    "        {\n",
    "          \"match\" : {\n",
    "            \"House\" : \"Gryffindor\"\n",
    "          }\n",
    "        }\n",
    "      ],\n",
    "      \"must_not\": {\n",
    "          \"range\": {\n",
    "            \"Birth\": {\n",
    "              \"lte\":\"1980-01-01\"\n",
    "              }\n",
    "          }\n",
    "        },\n",
    "      \"filter\": {\n",
    "        \"term\": {\n",
    "          \"Hair colour\": \"Red\"\n",
    "        }\n",
    "        \n",
    "      }\n",
    "    }  \n",
    "  })"
   ]
  },
  {
   "cell_type": "code",
   "execution_count": 12,
   "metadata": {},
   "outputs": [
    {
     "name": "stdout",
     "output_type": "stream",
     "text": [
      "We get back 3 results, here are the top ones:\n",
      "Rose GrangerWeasley\n",
      "Ronald Bilius Weasley\n",
      "Ginevra Ginny Molly Weasley\n"
     ]
    }
   ],
   "source": [
    "print(\"We get back {total} results, here are the top ones:\".format(total=response[\"hits\"]['total']['value']))\n",
    "for hit in response[\"hits\"][\"hits\"]:\n",
    "    print(hit['_source']['Name'])"
   ]
  },
  {
   "cell_type": "markdown",
   "metadata": {},
   "source": [
    "## New Data Cleaning"
   ]
  },
  {
   "cell_type": "markdown",
   "metadata": {},
   "source": [
    "Now let's expand upon our project and try out some more Functionalities. in python. \n",
    "\n",
    "We will introduce our second dataset to the project: the (dialogue) script of the first Harry Potter movie. Like the previous dataset, this is taken from [this kaggle project](https://www.kaggle.com/datasets/gulsahdemiryurek/harry-potter-dataset?select=Harry+Potter+1.csv) where you can download it. It has also been added to our [data folder](/data/Harry_Potter_1.csv) for convenience. "
   ]
  },
  {
   "cell_type": "code",
   "execution_count": 38,
   "metadata": {},
   "outputs": [],
   "source": [
    "import pandas as pd\n",
    "hp_script = pd.read_csv(\"data/Harry_Potter_1.csv\", sep = \";\" )"
   ]
  },
  {
   "cell_type": "code",
   "execution_count": 39,
   "metadata": {},
   "outputs": [
    {
     "data": {
      "text/html": [
       "<div>\n",
       "<style scoped>\n",
       "    .dataframe tbody tr th:only-of-type {\n",
       "        vertical-align: middle;\n",
       "    }\n",
       "\n",
       "    .dataframe tbody tr th {\n",
       "        vertical-align: top;\n",
       "    }\n",
       "\n",
       "    .dataframe thead th {\n",
       "        text-align: right;\n",
       "    }\n",
       "</style>\n",
       "<table border=\"1\" class=\"dataframe\">\n",
       "  <thead>\n",
       "    <tr style=\"text-align: right;\">\n",
       "      <th></th>\n",
       "      <th>Character</th>\n",
       "      <th>Sentence</th>\n",
       "    </tr>\n",
       "  </thead>\n",
       "  <tbody>\n",
       "    <tr>\n",
       "      <th>0</th>\n",
       "      <td>Dumbledore</td>\n",
       "      <td>I should've known that you would be here, Prof...</td>\n",
       "    </tr>\n",
       "    <tr>\n",
       "      <th>1</th>\n",
       "      <td>McGonagall</td>\n",
       "      <td>Good evening, Professor Dumbledore.</td>\n",
       "    </tr>\n",
       "    <tr>\n",
       "      <th>2</th>\n",
       "      <td>McGonagall</td>\n",
       "      <td>Are the rumors true, Albus?</td>\n",
       "    </tr>\n",
       "    <tr>\n",
       "      <th>3</th>\n",
       "      <td>Dumbledore</td>\n",
       "      <td>I'm afraid so, professor.</td>\n",
       "    </tr>\n",
       "    <tr>\n",
       "      <th>4</th>\n",
       "      <td>Dumbledore</td>\n",
       "      <td>The good and the bad.</td>\n",
       "    </tr>\n",
       "  </tbody>\n",
       "</table>\n",
       "</div>"
      ],
      "text/plain": [
       "    Character                                           Sentence\n",
       "0  Dumbledore  I should've known that you would be here, Prof...\n",
       "1  McGonagall                Good evening, Professor Dumbledore.\n",
       "2  McGonagall                        Are the rumors true, Albus?\n",
       "3  Dumbledore                          I'm afraid so, professor.\n",
       "4  Dumbledore                              The good and the bad."
      ]
     },
     "execution_count": 39,
     "metadata": {},
     "output_type": "execute_result"
    }
   ],
   "source": [
    "hp_script.head()"
   ]
  },
  {
   "cell_type": "markdown",
   "metadata": {},
   "source": [
    "First we have to clean up our data a bit, we'll make sure we don't have multiple instances of the same character by removing the special characters and spacing in the names. This takes us from 91 unique characters to 56. "
   ]
  },
  {
   "cell_type": "code",
   "execution_count": 40,
   "metadata": {},
   "outputs": [
    {
     "name": "stdout",
     "output_type": "stream",
     "text": [
      "There are 91 unique characters: ['Dumbledore' 'McGonagall' 'Hagrid' 'Petunia' 'Dudley' 'Vernon' 'Harry'\n",
      " 'Snake' 'Someone' 'Barkeep\\xa0Tom' 'Man' 'Witch' 'Quirrell' 'Boy'\n",
      " 'Goblin' 'Griphook' 'Ollivander' 'Trainmaster' 'Mrs. Weasley' 'George'\n",
      " 'Fred' 'Ginny' 'Ron' 'Woman' 'Hermione' 'Neville' 'Malfoy' 'Whispers'\n",
      " 'Sorting Hat' 'Seamus' 'Percy' 'Sir Nicholas' 'Girl' 'Man in paint'\n",
      " 'Fat Lady' 'Snape' 'Dean' 'Madam Hooch' 'Class' 'Harry ' 'Fred  ' 'Ron  '\n",
      " 'George  ' 'Harry  ' 'Hermione  ' 'Ron ' 'Hermione ' 'Filch' 'All  '\n",
      " 'Oliver ' 'Oliver  ' 'Flitwick' 'Draco  ' 'Flitwick  ' 'Seamus  '\n",
      " 'Girl  ' 'Boy  ' 'Percy  ' 'McGonagall ' 'Ron and Harry' 'McGonagall  '\n",
      " 'Quirrell  ' 'Snape  ' 'OIiver  ' 'Lee Jordan' 'Hagrid ' 'Gryffindors  '\n",
      " 'Flint  ' 'Crowd  ' 'Flint' 'Hagrid  ' 'Man  ' 'Lee  Jordan'\n",
      " 'Madam Hooch ' 'Quirrell ' 'Filch  ' 'Dumbledore  ' 'Hermoine'\n",
      " 'Ron and Harry  ' 'All 3  ' 'Filch ' 'Firenze  ' 'Firenze ' 'Snape '\n",
      " 'Neville  ' 'Ron   ' 'Voldemort ' 'Voldemort' 'Voldemort  ' 'Dumbledore '\n",
      " 'Students']\n",
      "There are 56 unique characters: ['Dumbledore' 'McGonagall' 'Hagrid' 'Petunia' 'Dudley' 'Vernon' 'Harry'\n",
      " 'Snake' 'Someone' 'BarkeepTom' 'Man' 'Witch' 'Quirrell' 'Boy' 'Goblin'\n",
      " 'Griphook' 'Ollivander' 'Trainmaster' 'Mrs Weasley' 'George' 'Fred'\n",
      " 'Ginny' 'Ron' 'Woman' 'Hermione' 'Neville' 'Malfoy' 'Whispers'\n",
      " 'Sorting Hat' 'Seamus' 'Percy' 'Sir Nicholas' 'Girl' 'Man in paint'\n",
      " 'Fat Lady' 'Snape' 'Dean' 'Madam Hooch' 'Class' 'Filch' 'All' 'Oliver'\n",
      " 'Flitwick' 'Draco' 'Ron and Harry' 'OIiver' 'Lee Jordan' 'Gryffindors'\n",
      " 'Flint' 'Crowd' 'Lee  Jordan' 'Hermoine' 'All 3' 'Firenze' 'Voldemort'\n",
      " 'Students']\n"
     ]
    }
   ],
   "source": [
    "import re\n",
    "unique_chars = hp_script[\"Character\"].unique()\n",
    "print(\"There are {} unique characters: {}\".format(len(unique_chars), unique_chars))\n",
    "hp_script = hp_script.applymap(lambda x: re.sub(r'[^ \\w+]', '', str(x).strip()))\n",
    "unique_chars = hp_script[\"Character\"].unique()\n",
    "print(\"There are {} unique characters: {}\".format(len(unique_chars), unique_chars))\n"
   ]
  },
  {
   "cell_type": "code",
   "execution_count": 41,
   "metadata": {},
   "outputs": [
    {
     "data": {
      "text/html": [
       "<div>\n",
       "<style scoped>\n",
       "    .dataframe tbody tr th:only-of-type {\n",
       "        vertical-align: middle;\n",
       "    }\n",
       "\n",
       "    .dataframe tbody tr th {\n",
       "        vertical-align: top;\n",
       "    }\n",
       "\n",
       "    .dataframe thead th {\n",
       "        text-align: right;\n",
       "    }\n",
       "</style>\n",
       "<table border=\"1\" class=\"dataframe\">\n",
       "  <thead>\n",
       "    <tr style=\"text-align: right;\">\n",
       "      <th></th>\n",
       "      <th>Character</th>\n",
       "      <th>Sentence</th>\n",
       "      <th>Line_number</th>\n",
       "    </tr>\n",
       "  </thead>\n",
       "  <tbody>\n",
       "    <tr>\n",
       "      <th>0</th>\n",
       "      <td>Dumbledore</td>\n",
       "      <td>I shouldve known that you would be here Profes...</td>\n",
       "      <td>0</td>\n",
       "    </tr>\n",
       "    <tr>\n",
       "      <th>1</th>\n",
       "      <td>McGonagall</td>\n",
       "      <td>Good evening Professor Dumbledore</td>\n",
       "      <td>1</td>\n",
       "    </tr>\n",
       "    <tr>\n",
       "      <th>2</th>\n",
       "      <td>McGonagall</td>\n",
       "      <td>Are the rumors true Albus</td>\n",
       "      <td>2</td>\n",
       "    </tr>\n",
       "    <tr>\n",
       "      <th>3</th>\n",
       "      <td>Dumbledore</td>\n",
       "      <td>Im afraid so professor</td>\n",
       "      <td>3</td>\n",
       "    </tr>\n",
       "    <tr>\n",
       "      <th>4</th>\n",
       "      <td>Dumbledore</td>\n",
       "      <td>The good and the bad</td>\n",
       "      <td>4</td>\n",
       "    </tr>\n",
       "  </tbody>\n",
       "</table>\n",
       "</div>"
      ],
      "text/plain": [
       "    Character                                           Sentence  Line_number\n",
       "0  Dumbledore  I shouldve known that you would be here Profes...            0\n",
       "1  McGonagall                  Good evening Professor Dumbledore            1\n",
       "2  McGonagall                          Are the rumors true Albus            2\n",
       "3  Dumbledore                             Im afraid so professor            3\n",
       "4  Dumbledore                               The good and the bad            4"
      ]
     },
     "execution_count": 41,
     "metadata": {},
     "output_type": "execute_result"
    }
   ],
   "source": [
    "hp_script[\"Line_number\"] = hp_script.index\n",
    "hp_script.head()"
   ]
  },
  {
   "cell_type": "markdown",
   "metadata": {},
   "source": [
    "### Creating an index and mapping"
   ]
  },
  {
   "cell_type": "markdown",
   "metadata": {},
   "source": [
    "We will add this to our Elasticsearch cluster via code. Firstly, we must create a new index and mapping like we've seen in [the previous notebooks.](/3.%20Index%20Mapping.md)"
   ]
  },
  {
   "cell_type": "code",
   "execution_count": 42,
   "metadata": {},
   "outputs": [
    {
     "data": {
      "text/plain": [
       "ObjectApiResponse({'acknowledged': True, 'shards_acknowledged': True, 'index': 'hp_script_1'})"
      ]
     },
     "execution_count": 42,
     "metadata": {},
     "output_type": "execute_result"
    }
   ],
   "source": [
    "index = \"hp_script_1\"\n",
    "settings = {}\n",
    "mappings = {\n",
    "    \"_meta\" : {\n",
    "        \"created_by\" : \"Iulia Feroli\"\n",
    "    },\n",
    "    \"properties\" : {\n",
    "        \"Line_number\" : {\n",
    "            \"type\" : \"long\"\n",
    "        },\n",
    "        \"Character\" : {\n",
    "            \"type\" : \"keyword\",\n",
    "            \"type\" : \"text\"\n",
    "        },\n",
    "        \"Sentence\" : {\n",
    "            \"type\" : \"text\"\n",
    "        }\n",
    "    }\n",
    "}\n",
    "\n",
    "client.indices.create(index=index, settings=settings, mappings=mappings)"
   ]
  },
  {
   "cell_type": "markdown",
   "metadata": {},
   "source": [
    "Now we can add our documents to the index. We can easily convert our dataframe into a dictionary to see the format each of our documents will take in the index."
   ]
  },
  {
   "cell_type": "code",
   "execution_count": 52,
   "metadata": {},
   "outputs": [
    {
     "data": {
      "text/plain": [
       "[{'Character': 'Dumbledore',\n",
       "  'Sentence': 'I shouldve known that you would be here Professor McGonagall',\n",
       "  'Line_number': 0},\n",
       " {'Character': 'McGonagall',\n",
       "  'Sentence': 'Good evening Professor Dumbledore',\n",
       "  'Line_number': 1},\n",
       " {'Character': 'McGonagall',\n",
       "  'Sentence': 'Are the rumors true Albus',\n",
       "  'Line_number': 2},\n",
       " {'Character': 'Dumbledore',\n",
       "  'Sentence': 'Im afraid so professor',\n",
       "  'Line_number': 3},\n",
       " {'Character': 'Dumbledore',\n",
       "  'Sentence': 'The good and the bad',\n",
       "  'Line_number': 4}]"
      ]
     },
     "execution_count": 52,
     "metadata": {},
     "output_type": "execute_result"
    }
   ],
   "source": [
    "from json import loads\n",
    "docs = hp_script.to_json(orient = \"records\")\n",
    "hp_script_docs = loads(docs)\n",
    "hp_script_docs[0:5]"
   ]
  },
  {
   "cell_type": "markdown",
   "metadata": {},
   "source": [
    "We can index documents into our new index either one by one with the index function or, more conveniently, when dealing with large numbers of documents, using the bulk helper. Let's run a test to see how `index` and `delete` work. See more info in the [docs here](https://www.elastic.co/guide/en/elasticsearch/client/python-api/current/examples.html)"
   ]
  },
  {
   "cell_type": "code",
   "execution_count": 86,
   "metadata": {},
   "outputs": [
    {
     "name": "stdout",
     "output_type": "stream",
     "text": [
      "updated\n",
      "{'Character': 'Iulia Feroli', 'Sentence': \"Wow, I've just added myself to the Harry Potter Books, I have so much to say!\", 'Line_number': 0}\n"
     ]
    }
   ],
   "source": [
    "doc_test = {\n",
    "    'Character': 'Iulia Feroli',\n",
    "    'Sentence': \"Wow, I've just added myself to the Harry Potter Books, I have so much to say!\",\n",
    "    'Line_number': 0\n",
    "}\n",
    "\n",
    "response = client.index(index = index, id = 1, document = doc_test)\n",
    "print(response['result'])\n",
    "\n",
    "response = client.search(index = index)\n",
    "for hit in response[\"hits\"][\"hits\"]:\n",
    "    print(hit['_source'])"
   ]
  },
  {
   "cell_type": "code",
   "execution_count": 87,
   "metadata": {},
   "outputs": [
    {
     "name": "stdout",
     "output_type": "stream",
     "text": [
      "deleted\n"
     ]
    }
   ],
   "source": [
    "response = client.delete(index = index, id = 1)\n",
    "print(response[\"result\"])"
   ]
  },
  {
   "cell_type": "markdown",
   "metadata": {},
   "source": [
    "And now let's index all our Harry Potter script lines. See [bulk helper docs here.](https://elasticsearch-py.readthedocs.io/en/7.x/helpers.html). \n",
    "\n",
    "This works by iterating through documents and indexing them into Elasticsearch one by one - this is why we need to pass an iterator of our document list into the parameters. \n",
    "\n",
    "See a more complex example of this [here](https://github.com/elastic/elasticsearch-py/blob/main/examples/bulk-ingest/bulk-ingest.py)."
   ]
  },
  {
   "cell_type": "code",
   "execution_count": 97,
   "metadata": {},
   "outputs": [],
   "source": [
    "from elasticsearch.helpers import bulk\n",
    "\n",
    "response = bulk(client = client, index = index, actions = iter(hp_script_docs), stats_only = True )"
   ]
  },
  {
   "cell_type": "markdown",
   "metadata": {},
   "source": [
    "And that's it! Let's see if the bulk ingest worked by doing a general search of all index documents:"
   ]
  },
  {
   "cell_type": "markdown",
   "metadata": {},
   "source": [
    "### Fuzzy, magical searches"
   ]
  },
  {
   "cell_type": "code",
   "execution_count": 100,
   "metadata": {},
   "outputs": [
    {
     "name": "stdout",
     "output_type": "stream",
     "text": [
      "We get back 1587 results, here are the top ones:\n",
      "{'Character': 'Dumbledore', 'Sentence': 'I shouldve known that you would be here Professor McGonagall', 'Line_number': 0}\n",
      "{'Character': 'McGonagall', 'Sentence': 'Good evening Professor Dumbledore', 'Line_number': 1}\n",
      "{'Character': 'McGonagall', 'Sentence': 'Are the rumors true Albus', 'Line_number': 2}\n",
      "{'Character': 'Dumbledore', 'Sentence': 'Im afraid so professor', 'Line_number': 3}\n",
      "{'Character': 'Dumbledore', 'Sentence': 'The good and the bad', 'Line_number': 4}\n",
      "{'Character': 'McGonagall', 'Sentence': 'And the boy', 'Line_number': 5}\n",
      "{'Character': 'Dumbledore', 'Sentence': 'Hagrid is bringing him', 'Line_number': 6}\n",
      "{'Character': 'McGonagall', 'Sentence': 'Do you think it wise to trust Hagrid with something as important as this', 'Line_number': 7}\n",
      "{'Character': 'Dumbledore', 'Sentence': 'Ah Professor I would trust Hagrid with my life', 'Line_number': 8}\n",
      "{'Character': 'Hagrid', 'Sentence': 'Professor Dumbledore sir', 'Line_number': 9}\n"
     ]
    }
   ],
   "source": [
    "response = client.search(index = index)\n",
    "\n",
    "print(\"We get back {total} results, here are the top ones:\".format(total=response[\"hits\"]['total']['value']))\n",
    "for hit in response[\"hits\"][\"hits\"]:\n",
    "    print(hit['_source'])"
   ]
  },
  {
   "cell_type": "markdown",
   "metadata": {},
   "source": [
    "### Getting to NLP magic \n",
    "Now we can once again play with the search engine to look through our new index. This time we have way more natural language text so we can build way cooler solutions! \n",
    "\n",
    "As a first tease, let's check for one of the most famously common sentences in the first book. \n",
    "\n",
    "You will see that the matches that we get back are already using some NLP techniques to retrieve similar sentences that aren't the exact query word for word. \n",
    "\n",
    "We see Elasticsearch also returns a score by which the responses are ranked. Now things are getting exciting.\n",
    "\n",
    "In the next phase, we will use vector search, embeddings, and similarity scores to explore some really fun stuff in the Harry Potter world. \n",
    "\n",
    "![](img/hagrid.jpeg)"
   ]
  },
  {
   "cell_type": "code",
   "execution_count": 107,
   "metadata": {},
   "outputs": [
    {
     "name": "stdout",
     "output_type": "stream",
     "text": [
      "We get back 157 results, here are the top ones:\n",
      "11.772943 {'Character': 'Hagrid', 'Sentence': 'I shouldnt have said that', 'Line_number': 961}\n",
      "10.969593 {'Character': 'Hagrid', 'Sentence': 'I should not have said that', 'Line_number': 962}\n",
      "10.969593 {'Character': 'Hagrid', 'Sentence': 'I should not have said that', 'Line_number': 963}\n",
      "7.562082 {'Character': 'Hagrid', 'Sentence': 'Shouldnta said that  No more questions', 'Line_number': 945}\n",
      "6.277094 {'Character': 'Neville', 'Sentence': 'She said that shed been in there all afternooncrying', 'Line_number': 800}\n",
      "6.0444646 {'Character': 'Hagrid', 'Sentence': 'I shouldnt have told you that', 'Line_number': 1140}\n",
      "6.0444646 {'Character': 'Hagrid', 'Sentence': 'I shouldnt have told you that', 'Line_number': 1141}\n",
      "6.0444646 {'Character': 'Hagrid', 'Sentence': 'I shouldnt have told you that', 'Line_number': 1292}\n",
      "5.6583557 {'Character': 'Harry', 'Sentence': 'Will I have to wear that too', 'Line_number': 96}\n",
      "5.3653812 {'Character': 'Neville', 'Sentence': 'Parvati Patil said that she wouldnt come out of the girls bathroom', 'Line_number': 799}\n"
     ]
    }
   ],
   "source": [
    "response = client.search(index = index, query={\n",
    "    \"match\" : {\n",
    "        \"Sentence\" : \"shouldn't have said that\"\n",
    "    }\n",
    "})\n",
    "\n",
    "print(\"We get back {total} results, here are the top ones:\".format(total=response[\"hits\"]['total']['value']))\n",
    "for hit in response[\"hits\"][\"hits\"]:\n",
    "    print(hit[\"_score\"], hit['_source'])"
   ]
  }
 ],
 "metadata": {
  "kernelspec": {
   "display_name": ".venv",
   "language": "python",
   "name": "python3"
  },
  "language_info": {
   "codemirror_mode": {
    "name": "ipython",
    "version": 3
   },
   "file_extension": ".py",
   "mimetype": "text/x-python",
   "name": "python",
   "nbconvert_exporter": "python",
   "pygments_lexer": "ipython3",
   "version": "3.11.4"
  },
  "orig_nbformat": 4
 },
 "nbformat": 4,
 "nbformat_minor": 2
}
